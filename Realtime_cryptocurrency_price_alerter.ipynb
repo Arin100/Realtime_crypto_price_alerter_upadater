{
  "nbformat": 4,
  "nbformat_minor": 0,
  "metadata": {
    "colab": {
      "name": "Realtime cryptocurrency price alerter.ipynb",
      "provenance": [],
      "authorship_tag": "ABX9TyMlrwZe7ExJjQAf+LqxYLHJ",
      "include_colab_link": true
    },
    "kernelspec": {
      "name": "python3",
      "display_name": "Python 3"
    },
    "language_info": {
      "name": "python"
    }
  },
  "cells": [
    {
      "cell_type": "markdown",
      "metadata": {
        "id": "view-in-github",
        "colab_type": "text"
      },
      "source": [
        "<a href=\"https://colab.research.google.com/github/Arin100/realtime_crypto_update/blob/main/Realtime_cryptocurrency_price_alerter.ipynb\" target=\"_parent\"><img src=\"https://colab.research.google.com/assets/colab-badge.svg\" alt=\"Open In Colab\"/></a>"
      ]
    },
    {
      "cell_type": "code",
      "metadata": {
        "id": "bgQO0MrqoL7T"
      },
      "source": [
        "#A realtime cryptocurrency price updater that sends mail when price flactuates\n",
        "from bs4 import BeautifulSoup\n",
        "import requests\n",
        "import time\n",
        "import smtplib\n",
        "import ssl\n",
        "from email.mime.text import MIMEText as MT\n",
        "from email.mime.multipart import MIMEMultipart as MM"
      ],
      "execution_count": null,
      "outputs": []
    },
    {
      "cell_type": "code",
      "metadata": {
        "colab": {
          "base_uri": "https://localhost:8080/"
        },
        "id": "_LdDc8ZBo9gp",
        "outputId": "86c3feb6-02f9-4379-c623-69d27e4b0f64"
      },
      "source": [
        "#we create a function that calls the price of the cryptocurrencies\n",
        "\n",
        "crypto_name = input(\">\") \n",
        "def crypto_price(crypto_name):\n",
        "    url = 'https://www.google.com/search?q='+crypto_name+'+price'\n",
        "    crypto_html = requests.get(url)\n",
        "    soup = BeautifulSoup(crypto_html.text, 'lxml')\n",
        "    text = soup.find('div', class_='BNeawe iBp4i AP7Wnd').find('div', class_='BNeawe iBp4i AP7Wnd').text\n",
        "    return text"
      ],
      "execution_count": null,
      "outputs": [
        {
          "output_type": "stream",
          "text": [
            ">ethereum\n"
          ],
          "name": "stdout"
        }
      ]
    },
    {
      "cell_type": "code",
      "metadata": {
        "id": "quodEi2NpsUt"
      },
      "source": [
        "#store the email for recievers and senders\n",
        "receivers = '' #put receiving address\n",
        "senders = '' #put sending address\n",
        "sender_password = '' #put sending mail password"
      ],
      "execution_count": 39,
      "outputs": []
    },
    {
      "cell_type": "code",
      "metadata": {
        "id": "S2OKHmo8q0aP"
      },
      "source": [
        "def send_email(senders, receivers, sender_password, text_price):\n",
        "  #create a MIMEMultipart object\n",
        "  msg = MM()\n",
        "  msg['subject'] = \"NEW CRYPTO ALERT!!!\"\n",
        "  msg['From'] = senders\n",
        "  msg['To'] = receivers\n",
        "\n",
        "  HTML = \"\"\"\n",
        "    <html>\n",
        "      <body>\n",
        "        <h1>NEW CRYPTO PRICE ALERT!!!</h1>\n",
        "        <h2>\"\"\"+text_price+\"\"\"\n",
        "        </h2>\n",
        "      </body>\n",
        "    </html>\n",
        "    \"\"\"\n",
        "    #create a html MIMEText obj\n",
        "  MTObj = MT(HTML, \"html\")\n",
        "  msg.attach(MTObj)\n",
        "  #create the secure socket layer ssl context\n",
        "  SSL_context = ssl.create_default_context()\n",
        "  #create secure simple mail transfr\n",
        "  server = smtplib.SMTP_SSL(host=\"smtp.gmail.com\", port=465, context=SSL_context)\n",
        "  server.login(senders, sender_password)\n",
        "  server.sendmail(senders,receivers, msg.as_string())\n",
        "\n",
        "    "
      ],
      "execution_count": 42,
      "outputs": []
    },
    {
      "cell_type": "code",
      "metadata": {
        "id": "A1zONAePvPbB"
      },
      "source": [
        "def send_alert():\n",
        "  last_price = -1\n",
        "  while True:\n",
        "    crypto = crypto_name\n",
        "    price = crypto_price(crypto)\n",
        "    if price != last_price:\n",
        "      print(crypto.capitalize()+ ' price: ', price)\n",
        "      price_text = crypto.capitalize()+' price: '+ price\n",
        "      send_email(senders, receivers, sender_password, price_text)\n",
        "      last_price = price\n",
        "    time.sleep(120)\n"
      ],
      "execution_count": 41,
      "outputs": []
    },
    {
      "cell_type": "code",
      "metadata": {
        "colab": {
          "base_uri": "https://localhost:8080/",
          "height": 320
        },
        "id": "jIO_ulVIz4CP",
        "outputId": "1b69a338-6838-4a9b-cabe-18f240170e98"
      },
      "source": [
        "send_alert()"
      ],
      "execution_count": 43,
      "outputs": [
        {
          "output_type": "stream",
          "text": [
            "Ethereum price:  3,229.99 United States Dollar\n"
          ],
          "name": "stdout"
        },
        {
          "output_type": "error",
          "ename": "TypeError",
          "evalue": "ignored",
          "traceback": [
            "\u001b[0;31m---------------------------------------------------------------------------\u001b[0m",
            "\u001b[0;31mTypeError\u001b[0m                                 Traceback (most recent call last)",
            "\u001b[0;32m<ipython-input-43-1bc1a1ccea99>\u001b[0m in \u001b[0;36m<module>\u001b[0;34m()\u001b[0m\n\u001b[0;32m----> 1\u001b[0;31m \u001b[0msend_alert\u001b[0m\u001b[0;34m(\u001b[0m\u001b[0;34m)\u001b[0m\u001b[0;34m\u001b[0m\u001b[0;34m\u001b[0m\u001b[0m\n\u001b[0m",
            "\u001b[0;32m<ipython-input-41-cdeebf0eccbd>\u001b[0m in \u001b[0;36msend_alert\u001b[0;34m()\u001b[0m\n\u001b[1;32m      7\u001b[0m       \u001b[0mprint\u001b[0m\u001b[0;34m(\u001b[0m\u001b[0mcrypto\u001b[0m\u001b[0;34m.\u001b[0m\u001b[0mcapitalize\u001b[0m\u001b[0;34m(\u001b[0m\u001b[0;34m)\u001b[0m\u001b[0;34m+\u001b[0m \u001b[0;34m' price: '\u001b[0m\u001b[0;34m,\u001b[0m \u001b[0mprice\u001b[0m\u001b[0;34m)\u001b[0m\u001b[0;34m\u001b[0m\u001b[0;34m\u001b[0m\u001b[0m\n\u001b[1;32m      8\u001b[0m       \u001b[0mprice_text\u001b[0m \u001b[0;34m=\u001b[0m \u001b[0mcrypto\u001b[0m\u001b[0;34m.\u001b[0m\u001b[0mcapitalize\u001b[0m\u001b[0;34m(\u001b[0m\u001b[0;34m)\u001b[0m\u001b[0;34m+\u001b[0m\u001b[0;34m' price: '\u001b[0m\u001b[0;34m+\u001b[0m \u001b[0mprice\u001b[0m\u001b[0;34m\u001b[0m\u001b[0;34m\u001b[0m\u001b[0m\n\u001b[0;32m----> 9\u001b[0;31m       \u001b[0msend_email\u001b[0m\u001b[0;34m(\u001b[0m\u001b[0msenders\u001b[0m\u001b[0;34m,\u001b[0m \u001b[0mreceivers\u001b[0m\u001b[0;34m,\u001b[0m \u001b[0msender_password\u001b[0m\u001b[0;34m,\u001b[0m \u001b[0mprice_text\u001b[0m\u001b[0;34m)\u001b[0m\u001b[0;34m\u001b[0m\u001b[0;34m\u001b[0m\u001b[0m\n\u001b[0m\u001b[1;32m     10\u001b[0m       \u001b[0mlast_price\u001b[0m \u001b[0;34m=\u001b[0m \u001b[0mprice\u001b[0m\u001b[0;34m\u001b[0m\u001b[0;34m\u001b[0m\u001b[0m\n\u001b[1;32m     11\u001b[0m     \u001b[0mtime\u001b[0m\u001b[0;34m.\u001b[0m\u001b[0msleep\u001b[0m\u001b[0;34m(\u001b[0m\u001b[0;36m120\u001b[0m\u001b[0;34m)\u001b[0m\u001b[0;34m\u001b[0m\u001b[0;34m\u001b[0m\u001b[0m\n",
            "\u001b[0;32m<ipython-input-42-13e6d716ccc6>\u001b[0m in \u001b[0;36msend_email\u001b[0;34m(senders, receivers, sender_password, text_price)\u001b[0m\n\u001b[1;32m     22\u001b[0m   \u001b[0;31m#create secure simple mail transfr\u001b[0m\u001b[0;34m\u001b[0m\u001b[0;34m\u001b[0m\u001b[0;34m\u001b[0m\u001b[0m\n\u001b[1;32m     23\u001b[0m   \u001b[0mserver\u001b[0m \u001b[0;34m=\u001b[0m \u001b[0msmtplib\u001b[0m\u001b[0;34m.\u001b[0m\u001b[0mSMTP_SSL\u001b[0m\u001b[0;34m(\u001b[0m\u001b[0mhost\u001b[0m\u001b[0;34m=\u001b[0m\u001b[0;34m\"smtp.gmail.com\"\u001b[0m\u001b[0;34m,\u001b[0m \u001b[0mport\u001b[0m\u001b[0;34m=\u001b[0m\u001b[0;36m465\u001b[0m\u001b[0;34m,\u001b[0m \u001b[0mcontext\u001b[0m\u001b[0;34m=\u001b[0m\u001b[0mSSL_context\u001b[0m\u001b[0;34m)\u001b[0m\u001b[0;34m\u001b[0m\u001b[0;34m\u001b[0m\u001b[0m\n\u001b[0;32m---> 24\u001b[0;31m   \u001b[0mserver\u001b[0m\u001b[0;34m.\u001b[0m\u001b[0mlogin\u001b[0m\u001b[0;34m(\u001b[0m\u001b[0msenders\u001b[0m\u001b[0;34m,\u001b[0m \u001b[0msender_password\u001b[0m\u001b[0;34m)\u001b[0m\u001b[0;34m\u001b[0m\u001b[0;34m\u001b[0m\u001b[0m\n\u001b[0m\u001b[1;32m     25\u001b[0m   \u001b[0mserver\u001b[0m\u001b[0;34m.\u001b[0m\u001b[0msendmail\u001b[0m\u001b[0;34m(\u001b[0m\u001b[0msenders\u001b[0m\u001b[0;34m,\u001b[0m\u001b[0mreceivers\u001b[0m\u001b[0;34m,\u001b[0m \u001b[0mmsg\u001b[0m\u001b[0;34m.\u001b[0m\u001b[0mas_string\u001b[0m\u001b[0;34m(\u001b[0m\u001b[0;34m)\u001b[0m\u001b[0;34m)\u001b[0m\u001b[0;34m\u001b[0m\u001b[0;34m\u001b[0m\u001b[0m\n\u001b[1;32m     26\u001b[0m \u001b[0;34m\u001b[0m\u001b[0m\n",
            "\u001b[0;32m/usr/lib/python3.7/smtplib.py\u001b[0m in \u001b[0;36mlogin\u001b[0;34m(self, user, password, initial_response_ok)\u001b[0m\n\u001b[1;32m    719\u001b[0m                 (code, resp) = self.auth(\n\u001b[1;32m    720\u001b[0m                     \u001b[0mauthmethod\u001b[0m\u001b[0;34m,\u001b[0m \u001b[0mgetattr\u001b[0m\u001b[0;34m(\u001b[0m\u001b[0mself\u001b[0m\u001b[0;34m,\u001b[0m \u001b[0mmethod_name\u001b[0m\u001b[0;34m)\u001b[0m\u001b[0;34m,\u001b[0m\u001b[0;34m\u001b[0m\u001b[0;34m\u001b[0m\u001b[0m\n\u001b[0;32m--> 721\u001b[0;31m                     initial_response_ok=initial_response_ok)\n\u001b[0m\u001b[1;32m    722\u001b[0m                 \u001b[0;31m# 235 == 'Authentication successful'\u001b[0m\u001b[0;34m\u001b[0m\u001b[0;34m\u001b[0m\u001b[0;34m\u001b[0m\u001b[0m\n\u001b[1;32m    723\u001b[0m                 \u001b[0;31m# 503 == 'Error: already authenticated'\u001b[0m\u001b[0;34m\u001b[0m\u001b[0;34m\u001b[0m\u001b[0;34m\u001b[0m\u001b[0m\n",
            "\u001b[0;32m/usr/lib/python3.7/smtplib.py\u001b[0m in \u001b[0;36mauth\u001b[0;34m(self, mechanism, authobject, initial_response_ok)\u001b[0m\n\u001b[1;32m    629\u001b[0m         \u001b[0;32mif\u001b[0m \u001b[0minitial_response\u001b[0m \u001b[0;32mis\u001b[0m \u001b[0;32mnot\u001b[0m \u001b[0;32mNone\u001b[0m\u001b[0;34m:\u001b[0m\u001b[0;34m\u001b[0m\u001b[0;34m\u001b[0m\u001b[0m\n\u001b[1;32m    630\u001b[0m             \u001b[0mresponse\u001b[0m \u001b[0;34m=\u001b[0m \u001b[0mencode_base64\u001b[0m\u001b[0;34m(\u001b[0m\u001b[0minitial_response\u001b[0m\u001b[0;34m.\u001b[0m\u001b[0mencode\u001b[0m\u001b[0;34m(\u001b[0m\u001b[0;34m'ascii'\u001b[0m\u001b[0;34m)\u001b[0m\u001b[0;34m,\u001b[0m \u001b[0meol\u001b[0m\u001b[0;34m=\u001b[0m\u001b[0;34m''\u001b[0m\u001b[0;34m)\u001b[0m\u001b[0;34m\u001b[0m\u001b[0;34m\u001b[0m\u001b[0m\n\u001b[0;32m--> 631\u001b[0;31m             \u001b[0;34m(\u001b[0m\u001b[0mcode\u001b[0m\u001b[0;34m,\u001b[0m \u001b[0mresp\u001b[0m\u001b[0;34m)\u001b[0m \u001b[0;34m=\u001b[0m \u001b[0mself\u001b[0m\u001b[0;34m.\u001b[0m\u001b[0mdocmd\u001b[0m\u001b[0;34m(\u001b[0m\u001b[0;34m\"AUTH\"\u001b[0m\u001b[0;34m,\u001b[0m \u001b[0mmechanism\u001b[0m \u001b[0;34m+\u001b[0m \u001b[0;34m\" \"\u001b[0m \u001b[0;34m+\u001b[0m \u001b[0mresponse\u001b[0m\u001b[0;34m)\u001b[0m\u001b[0;34m\u001b[0m\u001b[0;34m\u001b[0m\u001b[0m\n\u001b[0m\u001b[1;32m    632\u001b[0m         \u001b[0;32melse\u001b[0m\u001b[0;34m:\u001b[0m\u001b[0;34m\u001b[0m\u001b[0;34m\u001b[0m\u001b[0m\n\u001b[1;32m    633\u001b[0m             \u001b[0;34m(\u001b[0m\u001b[0mcode\u001b[0m\u001b[0;34m,\u001b[0m \u001b[0mresp\u001b[0m\u001b[0;34m)\u001b[0m \u001b[0;34m=\u001b[0m \u001b[0mself\u001b[0m\u001b[0;34m.\u001b[0m\u001b[0mdocmd\u001b[0m\u001b[0;34m(\u001b[0m\u001b[0;34m\"AUTH\"\u001b[0m\u001b[0;34m,\u001b[0m \u001b[0mmechanism\u001b[0m\u001b[0;34m)\u001b[0m\u001b[0;34m\u001b[0m\u001b[0;34m\u001b[0m\u001b[0m\n",
            "\u001b[0;31mTypeError\u001b[0m: can only concatenate str (not \"bytes\") to str"
          ]
        }
      ]
    }
  ]
}