{
  "nbformat": 4,
  "nbformat_minor": 0,
  "metadata": {
    "colab": {
      "name": "realtime crypto updater.ipynb",
      "provenance": [],
      "authorship_tag": "ABX9TyN3Y1NnWo3uH2A+4AgIyc26",
      "include_colab_link": true
    },
    "kernelspec": {
      "name": "python3",
      "display_name": "Python 3"
    },
    "language_info": {
      "name": "python"
    }
  },
  "cells": [
    {
      "cell_type": "markdown",
      "metadata": {
        "id": "view-in-github",
        "colab_type": "text"
      },
      "source": [
        "<a href=\"https://colab.research.google.com/github/Arin100/realtime_crypto_update/blob/main/realtime_crypto_updater.ipynb\" target=\"_parent\"><img src=\"https://colab.research.google.com/assets/colab-badge.svg\" alt=\"Open In Colab\"/></a>"
      ]
    },
    {
      "cell_type": "code",
      "metadata": {
        "id": "9n1bs-QIICoY"
      },
      "source": [
        "#A realtime cryptocurrency price updater\n",
        "from bs4 import BeautifulSoup\n",
        "import requests\n",
        "import time"
      ],
      "execution_count": 9,
      "outputs": []
    },
    {
      "cell_type": "code",
      "metadata": {
        "id": "S5cjGDpNKdC-"
      },
      "source": [
        "#now we get the url of the cryptoprice and store it in a variable so that it can be displaued later\n",
        "\n",
        "url = \"https://www.google.com/search?q=bitcoin+price\"\n",
        "crypto_html = requests.get(url)\n",
        "soup = BeautifulSoup(crypto_html.text, 'lxml')\n",
        "print(soup.prettify())"
      ],
      "execution_count": null,
      "outputs": []
    },
    {
      "cell_type": "code",
      "metadata": {
        "colab": {
          "base_uri": "https://localhost:8080/"
        },
        "id": "Vhqu0L7rKaF4",
        "outputId": "e03bc390-9f07-4063-947a-6b3b4057d5b6"
      },
      "source": [
        "#<div class=\"BNeawe iBp4i AP7Wnd\">\n",
        "#we create a function that calls the price of the cryptocurrencies\n",
        "\n",
        "crypto_name = input(\">\") \n",
        "def crypto_price(crypto_name):\n",
        "    url = 'https://www.google.com/search?q='+crypto_name+'+price'\n",
        "    crypto_html = requests.get(url)\n",
        "    soup = BeautifulSoup(crypto_html.text, 'lxml')\n",
        "    text = soup.find('div', class_='BNeawe iBp4i AP7Wnd').find('div', class_='BNeawe iBp4i AP7Wnd').text\n",
        "    return text\n",
        "\n"
      ],
      "execution_count": 80,
      "outputs": [
        {
          "output_type": "stream",
          "text": [
            ">bitcoin\n"
          ],
          "name": "stdout"
        }
      ]
    },
    {
      "cell_type": "code",
      "metadata": {
        "colab": {
          "base_uri": "https://localhost:8080/",
          "height": 246
        },
        "id": "ylISj1Z8RrHk",
        "outputId": "dad50231-aecf-4db4-abb6-7c59b0ee35d8"
      },
      "source": [
        "if __name__ == '__main__':\n",
        "  last_price = -1\n",
        "  while True:\n",
        "    crypto = crypto_name\n",
        "    price = crypto_price(crypto)\n",
        "    if price != last_price:\n",
        "      print(crypto+ \" price:\", price)\n",
        "      last_price = price\n",
        "    time.sleep(3)\n",
        "   "
      ],
      "execution_count": 81,
      "outputs": [
        {
          "output_type": "stream",
          "text": [
            "bitcoin price: 48,971.30 United States Dollar\n",
            "bitcoin price: 48,943.00 United States Dollar\n"
          ],
          "name": "stdout"
        },
        {
          "output_type": "error",
          "ename": "KeyboardInterrupt",
          "evalue": "ignored",
          "traceback": [
            "\u001b[0;31m---------------------------------------------------------------------------\u001b[0m",
            "\u001b[0;31mKeyboardInterrupt\u001b[0m                         Traceback (most recent call last)",
            "\u001b[0;32m<ipython-input-81-6d3dad25a2ba>\u001b[0m in \u001b[0;36m<module>\u001b[0;34m()\u001b[0m\n\u001b[1;32m      7\u001b[0m       \u001b[0mprint\u001b[0m\u001b[0;34m(\u001b[0m\u001b[0mcrypto\u001b[0m\u001b[0;34m+\u001b[0m \u001b[0;34m\" price:\"\u001b[0m\u001b[0;34m,\u001b[0m \u001b[0mprice\u001b[0m\u001b[0;34m)\u001b[0m\u001b[0;34m\u001b[0m\u001b[0;34m\u001b[0m\u001b[0m\n\u001b[1;32m      8\u001b[0m       \u001b[0mlast_price\u001b[0m \u001b[0;34m=\u001b[0m \u001b[0mprice\u001b[0m\u001b[0;34m\u001b[0m\u001b[0;34m\u001b[0m\u001b[0m\n\u001b[0;32m----> 9\u001b[0;31m     \u001b[0mtime\u001b[0m\u001b[0;34m.\u001b[0m\u001b[0msleep\u001b[0m\u001b[0;34m(\u001b[0m\u001b[0;36m3\u001b[0m\u001b[0;34m)\u001b[0m\u001b[0;34m\u001b[0m\u001b[0;34m\u001b[0m\u001b[0m\n\u001b[0m\u001b[1;32m     10\u001b[0m \u001b[0;34m\u001b[0m\u001b[0m\n",
            "\u001b[0;31mKeyboardInterrupt\u001b[0m: "
          ]
        }
      ]
    }
  ]
}